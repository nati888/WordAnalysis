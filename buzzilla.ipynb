{
 "cells": [
  {
   "cell_type": "code",
   "execution_count": 1,
   "metadata": {},
   "outputs": [],
   "source": [
    "import numpy as np\n",
    "import pandas as pd\n",
    "from bs4 import BeautifulSoup \n",
    "from selenium import webdriver\n",
    "from selenium.webdriver import ChromeOptions\n"
   ]
  },
  {
   "cell_type": "code",
   "execution_count": 2,
   "metadata": {},
   "outputs": [],
   "source": [
    "str1='https://he.wikipedia.org/wiki/%D7%A2%D7%9E%D7%95%D7%93_%D7%A8%D7%90%D7%A9%D7%99'"
   ]
  },
  {
   "cell_type": "code",
   "execution_count": 3,
   "metadata": {},
   "outputs": [],
   "source": [
    "str2='https://www.ynet.co.il/home/0,7340,L-8,00.html'"
   ]
  },
  {
   "cell_type": "code",
   "execution_count": 4,
   "metadata": {},
   "outputs": [],
   "source": [
    "str3='http://www.talniri.co.il/'\n"
   ]
  },
  {
   "cell_type": "code",
   "execution_count": 5,
   "metadata": {
    "scrolled": true
   },
   "outputs": [
    {
     "data": {
      "text/plain": [
       "['https://he.wikipedia.org/wiki/%D7%A2%D7%9E%D7%95%D7%93_%D7%A8%D7%90%D7%A9%D7%99',\n",
       " 'https://www.ynet.co.il/home/0,7340,L-8,00.html',\n",
       " 'http://www.talniri.co.il/']"
      ]
     },
     "execution_count": 5,
     "metadata": {},
     "output_type": "execute_result"
    }
   ],
   "source": [
    "urlList=[str1,str2,str3]\n",
    "urlList"
   ]
  },
  {
   "cell_type": "code",
   "execution_count": 6,
   "metadata": {},
   "outputs": [],
   "source": [
    "#Clean all Tags (Leaves us with only contant)\n",
    "def CleanTags(soup):\n",
    "    for script in soup([\"script\", \"style\"]):\n",
    "        script.decompose()\n",
    "\n",
    "    strips = list(soup.stripped_strings)\n",
    "    \n",
    "    words=[]\n",
    "    for line in strips:\n",
    "        temp=line.split()\n",
    "        for word in temp:\n",
    "            words.append(word)\n",
    "    \n",
    "    return words"
   ]
  },
  {
   "cell_type": "code",
   "execution_count": 7,
   "metadata": {},
   "outputs": [],
   "source": [
    "#Go to website and extract decoded source code\n",
    "def fetchWebSite(url):\n",
    "    driver = webdriver.Chrome()\n",
    "    driver.get(url)\n",
    "    html_source = (driver.page_source.encode('utf-8'))\n",
    "    driver.implicitly_wait(30)\n",
    "\n",
    "    soup = BeautifulSoup(html_source, 'html.parser')\n",
    "    \n",
    "    driver.close()\n",
    "    \n",
    "    return soup"
   ]
  },
  {
   "cell_type": "code",
   "execution_count": 8,
   "metadata": {},
   "outputs": [],
   "source": [
    "#genereate list of lists where each list containes all the words from an article\n",
    "cleanContent=[]\n",
    "for url in urlList:\n",
    "    soup=fetchWebSite(url)\n",
    "    cleanContent.append(CleanTags(soup))\n",
    "    \n"
   ]
  },
  {
   "cell_type": "code",
   "execution_count": null,
   "metadata": {},
   "outputs": [],
   "source": []
  },
  {
   "cell_type": "code",
   "execution_count": 9,
   "metadata": {},
   "outputs": [],
   "source": [
    "#count the number of times each words apeares in all the articles\n",
    "word_dict={}\n",
    "for contant in cleanContent:\n",
    "    my_dict = {i:contant.count(i) for i in contant}\n",
    "    word_dict.update(my_dict)\n",
    "    my_dict={}\n"
   ]
  },
  {
   "cell_type": "code",
   "execution_count": null,
   "metadata": {},
   "outputs": [],
   "source": []
  },
  {
   "cell_type": "code",
   "execution_count": 10,
   "metadata": {},
   "outputs": [],
   "source": [
    "#Generate DataFrame from the data and sort it by number of repeates\n",
    "df =pd.DataFrame(list(word_dict.items()),columns = ['word','repeat'])\n",
    "df=df.sort_values('repeat',ascending=False)\n",
    "\n"
   ]
  },
  {
   "cell_type": "code",
   "execution_count": 11,
   "metadata": {
    "scrolled": false
   },
   "outputs": [
    {
     "data": {
      "text/html": [
       "<div>\n",
       "<style scoped>\n",
       "    .dataframe tbody tr th:only-of-type {\n",
       "        vertical-align: middle;\n",
       "    }\n",
       "\n",
       "    .dataframe tbody tr th {\n",
       "        vertical-align: top;\n",
       "    }\n",
       "\n",
       "    .dataframe thead th {\n",
       "        text-align: right;\n",
       "    }\n",
       "</style>\n",
       "<table border=\"1\" class=\"dataframe\">\n",
       "  <thead>\n",
       "    <tr style=\"text-align: right;\">\n",
       "      <th></th>\n",
       "      <th>length</th>\n",
       "      <th>word</th>\n",
       "      <th>repeat</th>\n",
       "    </tr>\n",
       "  </thead>\n",
       "  <tbody>\n",
       "    <tr>\n",
       "      <th>0</th>\n",
       "      <td>2</td>\n",
       "      <td>贛語</td>\n",
       "      <td>27</td>\n",
       "    </tr>\n",
       "    <tr>\n",
       "      <th>1</th>\n",
       "      <td>3</td>\n",
       "      <td>한국어</td>\n",
       "      <td>12</td>\n",
       "    </tr>\n",
       "    <tr>\n",
       "      <th>2</th>\n",
       "      <td>4</td>\n",
       "      <td>አማርኛ</td>\n",
       "      <td>17</td>\n",
       "    </tr>\n",
       "    <tr>\n",
       "      <th>3</th>\n",
       "      <td>5</td>\n",
       "      <td>ܐܪܡܝܐ</td>\n",
       "      <td>52</td>\n",
       "    </tr>\n",
       "    <tr>\n",
       "      <th>4</th>\n",
       "      <td>6</td>\n",
       "      <td>𐌲𐌿𐍄𐌹𐍃𐌺</td>\n",
       "      <td>55</td>\n",
       "    </tr>\n",
       "    <tr>\n",
       "      <th>5</th>\n",
       "      <td>7</td>\n",
       "      <td>ᱥᱟᱱᱛᱟᱲᱤ</td>\n",
       "      <td>10</td>\n",
       "    </tr>\n",
       "    <tr>\n",
       "      <th>6</th>\n",
       "      <td>8</td>\n",
       "      <td>ئۇيغۇرچە</td>\n",
       "      <td>10</td>\n",
       "    </tr>\n",
       "    <tr>\n",
       "      <th>7</th>\n",
       "      <td>9</td>\n",
       "      <td>მარგალური</td>\n",
       "      <td>4</td>\n",
       "    </tr>\n",
       "    <tr>\n",
       "      <th>8</th>\n",
       "      <td>10</td>\n",
       "      <td>ⰔⰎⰑⰂⰡⰐⰠⰔⰍⰟ</td>\n",
       "      <td>3</td>\n",
       "    </tr>\n",
       "    <tr>\n",
       "      <th>9</th>\n",
       "      <td>11</td>\n",
       "      <td>ואלקטרוניקה</td>\n",
       "      <td>2</td>\n",
       "    </tr>\n",
       "    <tr>\n",
       "      <th>10</th>\n",
       "      <td>12</td>\n",
       "      <td>האנציקלופדיה</td>\n",
       "      <td>1</td>\n",
       "    </tr>\n",
       "    <tr>\n",
       "      <th>11</th>\n",
       "      <td>13</td>\n",
       "      <td>האינפלציוניים</td>\n",
       "      <td>2</td>\n",
       "    </tr>\n",
       "    <tr>\n",
       "      <th>12</th>\n",
       "      <td>14</td>\n",
       "      <td>בהתחייבויותיהם</td>\n",
       "      <td>1</td>\n",
       "    </tr>\n",
       "    <tr>\n",
       "      <th>13</th>\n",
       "      <td>15</td>\n",
       "      <td>Tsetsêhestâhese</td>\n",
       "      <td>1</td>\n",
       "    </tr>\n",
       "  </tbody>\n",
       "</table>\n",
       "</div>"
      ],
      "text/plain": [
       "    length             word  repeat\n",
       "0        2               贛語      27\n",
       "1        3              한국어      12\n",
       "2        4             አማርኛ      17\n",
       "3        5            ܐܪܡܝܐ      52\n",
       "4        6           𐌲𐌿𐍄𐌹𐍃𐌺      55\n",
       "5        7          ᱥᱟᱱᱛᱟᱲᱤ      10\n",
       "6        8         ئۇيغۇرچە      10\n",
       "7        9        მარგალური       4\n",
       "8       10       ⰔⰎⰑⰂⰡⰐⰠⰔⰍⰟ       3\n",
       "9       11      ואלקטרוניקה       2\n",
       "10      12     האנציקלופדיה       1\n",
       "11      13    האינפלציוניים       2\n",
       "12      14   בהתחייבויותיהם       1\n",
       "13      15  Tsetsêhestâhese       1"
      ]
     },
     "execution_count": 11,
     "metadata": {},
     "output_type": "execute_result"
    }
   ],
   "source": [
    "#Clean DataFrame from non word strings\n",
    "df=df[df['word'].str.isalpha()]\n",
    "\n",
    "#Add to each word the length of it\n",
    "df['length'] = df.word.str.len()\n",
    "\n",
    "#Leave only the words which appeared the most in each legth category\n",
    "df = df[df.length > 1]\n",
    "grouped_df = df.groupby(\"length\")\n",
    "maximums = grouped_df.max()\n",
    "maximums = maximums.reset_index()\n",
    "maximums"
   ]
  },
  {
   "cell_type": "code",
   "execution_count": 12,
   "metadata": {},
   "outputs": [
    {
     "data": {
      "text/plain": [
       "{'length 2': '贛語',\n",
       " 'length 3': '한국어',\n",
       " 'length 4': 'አማርኛ',\n",
       " 'length 5': 'ܐܪܡܝܐ',\n",
       " 'length 6': '𐌲𐌿𐍄𐌹𐍃𐌺',\n",
       " 'length 7': 'ᱥᱟᱱᱛᱟᱲᱤ',\n",
       " 'length 8': 'ئۇيغۇرچە',\n",
       " 'length 9': 'მარგალური',\n",
       " 'length 10': 'ⰔⰎⰑⰂⰡⰐⰠⰔⰍⰟ',\n",
       " 'length 11': 'ואלקטרוניקה',\n",
       " 'length 12': 'האנציקלופדיה',\n",
       " 'length 13': 'האינפלציוניים',\n",
       " 'length 14': 'בהתחייבויותיהם',\n",
       " 'length 15': 'Tsetsêhestâhese'}"
      ]
     },
     "execution_count": 12,
     "metadata": {},
     "output_type": "execute_result"
    }
   ],
   "source": [
    "#Format it and put it in dictionary as asked\n",
    "final={}\n",
    "\n",
    "for i in maximums.length:\n",
    "    final['length '+str(i)]=maximums.word.iloc[i-2]\n",
    "\n",
    "final"
   ]
  },
  {
   "cell_type": "code",
   "execution_count": null,
   "metadata": {
    "scrolled": true
   },
   "outputs": [],
   "source": []
  },
  {
   "cell_type": "code",
   "execution_count": null,
   "metadata": {},
   "outputs": [],
   "source": []
  }
 ],
 "metadata": {
  "kernelspec": {
   "display_name": "Python 3",
   "language": "python",
   "name": "python3"
  },
  "language_info": {
   "codemirror_mode": {
    "name": "ipython",
    "version": 3
   },
   "file_extension": ".py",
   "mimetype": "text/x-python",
   "name": "python",
   "nbconvert_exporter": "python",
   "pygments_lexer": "ipython3",
   "version": "3.7.3"
  }
 },
 "nbformat": 4,
 "nbformat_minor": 2
}
